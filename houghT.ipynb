{
 "cells": [
  {
   "cell_type": "code",
   "execution_count": 1,
   "metadata": {},
   "outputs": [],
   "source": [
    "import houghBoxRotate\n",
    "import kmeans\n",
    "import grabCut\n",
    "import matplotlib.pyplot as plt\n",
    "import cv2 \n",
    "import os\n",
    "import numpy as np\n",
    "from PIL import Image\n",
    "import kmeans\n",
    "import warnings\n",
    "warnings.filterwarnings(\"ignore\")"
   ]
  },
  {
   "cell_type": "markdown",
   "metadata": {},
   "source": [
    "## Inverting\n",
    "run once. when starting on neww dataset"
   ]
  },
  {
   "cell_type": "code",
   "execution_count": 2,
   "metadata": {},
   "outputs": [],
   "source": [
    "# change file names in finalized_dataset\n",
    "#remove double .png\n",
    "\n",
    "folder_path = \"/home/clr/Thesis/HoughTransform_xray/finalized_dataset/\"\n",
    "image_files = os.listdir(folder_path)\n",
    "\n",
    "for filename in image_files:\n",
    "    if filename.endswith(\".png.png\"):\n",
    "        new_filename = filename.replace(\".png.png\", \".png\")\n",
    "        old_path = os.path.join(folder_path, filename)\n",
    "        new_path = os.path.join(folder_path, new_filename)\n",
    "        \n",
    "        # Rename the file\n",
    "        os.rename(old_path, new_path)"
   ]
  },
  {
   "cell_type": "code",
   "execution_count": 3,
   "metadata": {},
   "outputs": [],
   "source": [
    "#invert some images. run once\n",
    "\n",
    "folder_path = \"/home/clr/Thesis/HoughTransform_xray/finalized_dataset/\"\n",
    "txt_path = \"/home/clr/Thesis/HoughTransform_xray/to_invert.txt\"\n",
    "\n",
    "to_invert = []\n",
    "\n",
    "with open(txt_path) as my_file:\n",
    "    to_invert = my_file.read().splitlines() \n",
    "\n",
    "\n",
    "for image_path in to_invert:\n",
    "    image = np.array(Image.open(folder_path+image_path).convert('L'))\n",
    "    inverted_image = cv2.bitwise_not(image)\n",
    "    cv2.imwrite(folder_path+image_path, inverted_image)\n"
   ]
  },
  {
   "cell_type": "markdown",
   "metadata": {},
   "source": [
    "## Rotation"
   ]
  },
  {
   "cell_type": "code",
   "execution_count": 2,
   "metadata": {},
   "outputs": [
    {
     "name": "stdout",
     "output_type": "stream",
     "text": [
      "Processing: /home/clr/Thesis/HoughTransform_xray/finalized_dataset/\n"
     ]
    },
    {
     "name": "stderr",
     "output_type": "stream",
     "text": [
      "Processing images: 100%|██████████| 1454/1454 [01:48<00:00, 13.39image/s]\n"
     ]
    },
    {
     "name": "stdout",
     "output_type": "stream",
     "text": [
      "Processing: /home/clr/Thesis/HoughTransform_xray/outputs/output_0/\n"
     ]
    },
    {
     "name": "stderr",
     "output_type": "stream",
     "text": [
      "Processing images: 100%|██████████| 1454/1454 [01:36<00:00, 15.04image/s]\n"
     ]
    },
    {
     "name": "stdout",
     "output_type": "stream",
     "text": [
      "Processing: /home/clr/Thesis/HoughTransform_xray/outputs/output_1/\n"
     ]
    },
    {
     "name": "stderr",
     "output_type": "stream",
     "text": [
      "Processing images: 100%|██████████| 1454/1454 [01:33<00:00, 15.58image/s]\n"
     ]
    }
   ],
   "source": [
    "folder_path = \"/home/clr/Thesis/HoughTransform_xray/finalized_dataset/\"\n",
    "output_paths = [\n",
    "    \"/home/clr/Thesis/HoughTransform_xray/outputs/output_0/\",\n",
    "    \"/home/clr/Thesis/HoughTransform_xray/outputs/output_1/\",\n",
    "    \"/home/clr/Thesis/HoughTransform_xray/outputs/output_2/\"\n",
    "    ]\n",
    "outliers_path = \"/home/clr/Thesis/HoughTransform_xray/anomalies/\"\n",
    "# skipped_images = \"/home/clr/Thesis/HoughTransform_xray/outputs/skipped_images/\"\n",
    "\n",
    "th_less = [0.2, 0.5, 0.7 ] #percentage to lessen threshold\n",
    "txt_path = \"/home/clr/Thesis/HoughTransform_xray/to_invert.txt\"\n",
    "\n",
    "#run the process. will run 3 times each having a lesser segmentation threshold\n",
    "def run_hough(image_input, image_output, th):\n",
    "    print(\"Processing:\", image_input)\n",
    "    image_output, non_centered = houghBoxRotate.houghT_rotate(image_input, image_output, outliers_path ,  th)\n",
    "    return image_output, non_centered\n",
    "\n",
    "for i, th in enumerate(th_less):\n",
    "    if i == 0:\n",
    "        #will brighten image on first run only\n",
    "        image_output, non_centered = run_hough(folder_path, output_paths[i], th)\n",
    "    else:\n",
    "        image_output, non_centered = run_hough(output_paths[i-1], output_paths[i], th)"
   ]
  },
  {
   "cell_type": "markdown",
   "metadata": {},
   "source": [
    "## k-means Segmentation"
   ]
  },
  {
   "cell_type": "code",
   "execution_count": 3,
   "metadata": {},
   "outputs": [
    {
     "name": "stderr",
     "output_type": "stream",
     "text": [
      "Segmenting images: 100%|██████████| 1454/1454 [02:03<00:00, 11.77img/s]\n"
     ]
    }
   ],
   "source": [
    "# folder_path = \"/home/clr/Thesis/HoughTransform_xray/finalized_dataset/\"\n",
    "segmented_output = \"/home/clr/Thesis/HoughTransform_xray/kmeans_segmented/\"\n",
    "kmeans = kmeans.kmeans_segment(output_paths[2], segmented_output)"
   ]
  },
  {
   "cell_type": "markdown",
   "metadata": {},
   "source": [
    "## GrabCut Segmentation"
   ]
  },
  {
   "cell_type": "code",
   "execution_count": 2,
   "metadata": {},
   "outputs": [],
   "source": [
    "output_paths = [\n",
    "    \"/home/clr/Thesis/HoughTransform_xray/outputs/output_0/\",\n",
    "    \"/home/clr/Thesis/HoughTransform_xray/outputs/output_1/\",\n",
    "    \"/home/clr/Thesis/HoughTransform_xray/outputs/output_2/\"\n",
    "    ]"
   ]
  },
  {
   "cell_type": "code",
   "execution_count": 3,
   "metadata": {},
   "outputs": [
    {
     "name": "stderr",
     "output_type": "stream",
     "text": [
      "Processing images:   0%|          | 0/1454 [00:00<?, ?image/s]"
     ]
    },
    {
     "name": "stdout",
     "output_type": "stream",
     "text": [
      "An error occurred during GrabCut: OpenCV(4.6.0) /croot/opencv-suite_1676452025216/work/modules/imgproc/src/grabcut.cpp:386: error: (-215:Assertion failed) !bgdSamples.empty() && !fgdSamples.empty() in function 'initGMMs'\n",
      "\n"
     ]
    },
    {
     "name": "stderr",
     "output_type": "stream",
     "text": [
      "Processing images:   2%|▏         | 23/1454 [01:12<29:30,  1.24s/image]  "
     ]
    },
    {
     "name": "stdout",
     "output_type": "stream",
     "text": [
      "An error occurred during GrabCut: OpenCV(4.6.0) /croot/opencv-suite_1676452025216/work/modules/imgproc/src/grabcut.cpp:386: error: (-215:Assertion failed) !bgdSamples.empty() && !fgdSamples.empty() in function 'initGMMs'\n",
      "\n"
     ]
    },
    {
     "name": "stderr",
     "output_type": "stream",
     "text": [
      "Processing images:  10%|▉         | 139/1454 [04:32<20:26,  1.07image/s]  "
     ]
    },
    {
     "name": "stdout",
     "output_type": "stream",
     "text": [
      "An error occurred during GrabCut: OpenCV(4.6.0) /croot/opencv-suite_1676452025216/work/modules/imgproc/src/grabcut.cpp:386: error: (-215:Assertion failed) !bgdSamples.empty() && !fgdSamples.empty() in function 'initGMMs'\n",
      "\n"
     ]
    },
    {
     "name": "stderr",
     "output_type": "stream",
     "text": [
      "Processing images:  10%|▉         | 144/1454 [04:36<20:59,  1.04image/s]"
     ]
    },
    {
     "name": "stdout",
     "output_type": "stream",
     "text": [
      "An error occurred during GrabCut: OpenCV(4.6.0) /croot/opencv-suite_1676452025216/work/modules/imgproc/src/grabcut.cpp:386: error: (-215:Assertion failed) !bgdSamples.empty() && !fgdSamples.empty() in function 'initGMMs'\n",
      "\n",
      "An error occurred during GrabCut: OpenCV(4.6.0) /croot/opencv-suite_1676452025216/work/modules/imgproc/src/grabcut.cpp:386: error: (-215:Assertion failed) !bgdSamples.empty() && !fgdSamples.empty() in function 'initGMMs'\n",
      "\n"
     ]
    },
    {
     "name": "stderr",
     "output_type": "stream",
     "text": [
      "Processing images:  15%|█▍        | 212/1454 [06:07<23:13,  1.12s/image]  "
     ]
    },
    {
     "name": "stdout",
     "output_type": "stream",
     "text": [
      "An error occurred during GrabCut: OpenCV(4.6.0) /croot/opencv-suite_1676452025216/work/modules/imgproc/src/grabcut.cpp:386: error: (-215:Assertion failed) !bgdSamples.empty() && !fgdSamples.empty() in function 'initGMMs'\n",
      "\n"
     ]
    },
    {
     "name": "stderr",
     "output_type": "stream",
     "text": [
      "Processing images:  15%|█▌        | 221/1454 [06:18<22:33,  1.10s/image]"
     ]
    },
    {
     "name": "stdout",
     "output_type": "stream",
     "text": [
      "An error occurred during GrabCut: OpenCV(4.6.0) /croot/opencv-suite_1676452025216/work/modules/imgproc/src/grabcut.cpp:386: error: (-215:Assertion failed) !bgdSamples.empty() && !fgdSamples.empty() in function 'initGMMs'\n",
      "\n"
     ]
    },
    {
     "name": "stderr",
     "output_type": "stream",
     "text": [
      "Processing images:  16%|█▌        | 226/1454 [06:29<34:08,  1.67s/image]"
     ]
    },
    {
     "name": "stdout",
     "output_type": "stream",
     "text": [
      "An error occurred during GrabCut: OpenCV(4.6.0) /croot/opencv-suite_1676452025216/work/modules/imgproc/src/grabcut.cpp:386: error: (-215:Assertion failed) !bgdSamples.empty() && !fgdSamples.empty() in function 'initGMMs'\n",
      "\n"
     ]
    },
    {
     "name": "stderr",
     "output_type": "stream",
     "text": [
      "Processing images:  18%|█▊        | 264/1454 [07:36<24:30,  1.24s/image]  "
     ]
    },
    {
     "name": "stdout",
     "output_type": "stream",
     "text": [
      "An error occurred during GrabCut: OpenCV(4.6.0) /croot/opencv-suite_1676452025216/work/modules/imgproc/src/grabcut.cpp:386: error: (-215:Assertion failed) !bgdSamples.empty() && !fgdSamples.empty() in function 'initGMMs'\n",
      "\n"
     ]
    },
    {
     "name": "stderr",
     "output_type": "stream",
     "text": [
      "Processing images:  18%|█▊        | 266/1454 [07:37<16:27,  1.20image/s]"
     ]
    },
    {
     "name": "stdout",
     "output_type": "stream",
     "text": [
      "An error occurred during GrabCut: OpenCV(4.6.0) /croot/opencv-suite_1676452025216/work/modules/imgproc/src/grabcut.cpp:386: error: (-215:Assertion failed) !bgdSamples.empty() && !fgdSamples.empty() in function 'initGMMs'\n",
      "\n"
     ]
    },
    {
     "name": "stderr",
     "output_type": "stream",
     "text": [
      "Processing images:  25%|██▍       | 363/1454 [10:10<23:32,  1.29s/image]  "
     ]
    },
    {
     "name": "stdout",
     "output_type": "stream",
     "text": [
      "An error occurred during GrabCut: OpenCV(4.6.0) /croot/opencv-suite_1676452025216/work/modules/imgproc/src/grabcut.cpp:386: error: (-215:Assertion failed) !bgdSamples.empty() && !fgdSamples.empty() in function 'initGMMs'\n",
      "\n"
     ]
    },
    {
     "name": "stderr",
     "output_type": "stream",
     "text": [
      "Processing images:  28%|██▊       | 403/1454 [10:55<15:04,  1.16image/s]  "
     ]
    },
    {
     "name": "stdout",
     "output_type": "stream",
     "text": [
      "An error occurred during GrabCut: OpenCV(4.6.0) /croot/opencv-suite_1676452025216/work/modules/imgproc/src/grabcut.cpp:386: error: (-215:Assertion failed) !bgdSamples.empty() && !fgdSamples.empty() in function 'initGMMs'\n",
      "\n"
     ]
    },
    {
     "name": "stderr",
     "output_type": "stream",
     "text": [
      "Processing images:  28%|██▊       | 412/1454 [11:07<21:28,  1.24s/image]"
     ]
    },
    {
     "name": "stdout",
     "output_type": "stream",
     "text": [
      "An error occurred during GrabCut: OpenCV(4.6.0) /croot/opencv-suite_1676452025216/work/modules/imgproc/src/grabcut.cpp:386: error: (-215:Assertion failed) !bgdSamples.empty() && !fgdSamples.empty() in function 'initGMMs'\n",
      "\n"
     ]
    },
    {
     "name": "stderr",
     "output_type": "stream",
     "text": [
      "Processing images:  30%|██▉       | 431/1454 [11:30<18:16,  1.07s/image]"
     ]
    },
    {
     "name": "stdout",
     "output_type": "stream",
     "text": [
      "An error occurred during GrabCut: OpenCV(4.6.0) /croot/opencv-suite_1676452025216/work/modules/imgproc/src/grabcut.cpp:386: error: (-215:Assertion failed) !bgdSamples.empty() && !fgdSamples.empty() in function 'initGMMs'\n",
      "\n"
     ]
    },
    {
     "name": "stderr",
     "output_type": "stream",
     "text": [
      "Processing images:  33%|███▎      | 473/1454 [12:53<1:05:33,  4.01s/image]"
     ]
    },
    {
     "name": "stdout",
     "output_type": "stream",
     "text": [
      "An error occurred during GrabCut: OpenCV(4.6.0) /croot/opencv-suite_1676452025216/work/modules/imgproc/src/grabcut.cpp:386: error: (-215:Assertion failed) !bgdSamples.empty() && !fgdSamples.empty() in function 'initGMMs'\n",
      "\n"
     ]
    },
    {
     "name": "stderr",
     "output_type": "stream",
     "text": [
      "Processing images:  35%|███▍      | 502/1454 [13:32<15:55,  1.00s/image]  "
     ]
    },
    {
     "name": "stdout",
     "output_type": "stream",
     "text": [
      "An error occurred during GrabCut: OpenCV(4.6.0) /croot/opencv-suite_1676452025216/work/modules/imgproc/src/grabcut.cpp:386: error: (-215:Assertion failed) !bgdSamples.empty() && !fgdSamples.empty() in function 'initGMMs'\n",
      "\n",
      "An error occurred during GrabCut: OpenCV(4.6.0) /croot/opencv-suite_1676452025216/work/modules/imgproc/src/grabcut.cpp:386: error: (-215:Assertion failed) !bgdSamples.empty() && !fgdSamples.empty() in function 'initGMMs'\n",
      "\n"
     ]
    },
    {
     "name": "stderr",
     "output_type": "stream",
     "text": [
      "Processing images:  40%|███▉      | 578/1454 [15:37<11:43,  1.25image/s]  "
     ]
    },
    {
     "name": "stdout",
     "output_type": "stream",
     "text": [
      "An error occurred during GrabCut: OpenCV(4.6.0) /croot/opencv-suite_1676452025216/work/modules/imgproc/src/grabcut.cpp:386: error: (-215:Assertion failed) !bgdSamples.empty() && !fgdSamples.empty() in function 'initGMMs'\n",
      "\n",
      "An error occurred during GrabCut: OpenCV(4.6.0) /croot/opencv-suite_1676452025216/work/modules/imgproc/src/grabcut.cpp:386: error: (-215:Assertion failed) !bgdSamples.empty() && !fgdSamples.empty() in function 'initGMMs'\n",
      "\n"
     ]
    },
    {
     "name": "stderr",
     "output_type": "stream",
     "text": [
      "Processing images:  41%|████▏     | 601/1454 [16:05<24:58,  1.76s/image]"
     ]
    },
    {
     "name": "stdout",
     "output_type": "stream",
     "text": [
      "An error occurred during GrabCut: OpenCV(4.6.0) /croot/opencv-suite_1676452025216/work/modules/imgproc/src/grabcut.cpp:386: error: (-215:Assertion failed) !bgdSamples.empty() && !fgdSamples.empty() in function 'initGMMs'\n",
      "\n"
     ]
    },
    {
     "name": "stderr",
     "output_type": "stream",
     "text": [
      "Processing images:  42%|████▏     | 610/1454 [16:11<11:24,  1.23image/s]"
     ]
    },
    {
     "name": "stdout",
     "output_type": "stream",
     "text": [
      "An error occurred during GrabCut: OpenCV(4.6.0) /croot/opencv-suite_1676452025216/work/modules/imgproc/src/grabcut.cpp:386: error: (-215:Assertion failed) !bgdSamples.empty() && !fgdSamples.empty() in function 'initGMMs'\n",
      "\n"
     ]
    },
    {
     "name": "stderr",
     "output_type": "stream",
     "text": [
      "Processing images:  49%|████▉     | 719/1454 [18:36<12:28,  1.02s/image]"
     ]
    },
    {
     "name": "stdout",
     "output_type": "stream",
     "text": [
      "An error occurred during GrabCut: OpenCV(4.6.0) /croot/opencv-suite_1676452025216/work/modules/imgproc/src/grabcut.cpp:386: error: (-215:Assertion failed) !bgdSamples.empty() && !fgdSamples.empty() in function 'initGMMs'\n",
      "\n"
     ]
    },
    {
     "name": "stderr",
     "output_type": "stream",
     "text": [
      "Processing images:  51%|█████     | 737/1454 [19:21<44:09,  3.69s/image]  "
     ]
    },
    {
     "name": "stdout",
     "output_type": "stream",
     "text": [
      "An error occurred during GrabCut: OpenCV(4.6.0) /croot/opencv-suite_1676452025216/work/modules/imgproc/src/grabcut.cpp:386: error: (-215:Assertion failed) !bgdSamples.empty() && !fgdSamples.empty() in function 'initGMMs'\n",
      "\n"
     ]
    },
    {
     "name": "stderr",
     "output_type": "stream",
     "text": [
      "Processing images:  52%|█████▏    | 749/1454 [19:51<24:15,  2.06s/image]"
     ]
    },
    {
     "name": "stdout",
     "output_type": "stream",
     "text": [
      "An error occurred during GrabCut: OpenCV(4.6.0) /croot/opencv-suite_1676452025216/work/modules/imgproc/src/grabcut.cpp:386: error: (-215:Assertion failed) !bgdSamples.empty() && !fgdSamples.empty() in function 'initGMMs'\n",
      "\n"
     ]
    },
    {
     "name": "stderr",
     "output_type": "stream",
     "text": [
      "Processing images:  63%|██████▎   | 915/1454 [24:38<11:46,  1.31s/image]  "
     ]
    },
    {
     "name": "stdout",
     "output_type": "stream",
     "text": [
      "An error occurred during GrabCut: OpenCV(4.6.0) /croot/opencv-suite_1676452025216/work/modules/imgproc/src/grabcut.cpp:386: error: (-215:Assertion failed) !bgdSamples.empty() && !fgdSamples.empty() in function 'initGMMs'\n",
      "\n"
     ]
    },
    {
     "name": "stderr",
     "output_type": "stream",
     "text": [
      "Processing images:  66%|██████▌   | 959/1454 [25:50<17:26,  2.12s/image]"
     ]
    },
    {
     "name": "stdout",
     "output_type": "stream",
     "text": [
      "An error occurred during GrabCut: OpenCV(4.6.0) /croot/opencv-suite_1676452025216/work/modules/imgproc/src/grabcut.cpp:386: error: (-215:Assertion failed) !bgdSamples.empty() && !fgdSamples.empty() in function 'initGMMs'\n",
      "\n"
     ]
    },
    {
     "name": "stderr",
     "output_type": "stream",
     "text": [
      "Processing images:  76%|███████▋  | 1111/1454 [31:06<04:29,  1.27image/s]"
     ]
    },
    {
     "name": "stdout",
     "output_type": "stream",
     "text": [
      "An error occurred during GrabCut: OpenCV(4.6.0) /croot/opencv-suite_1676452025216/work/modules/imgproc/src/grabcut.cpp:386: error: (-215:Assertion failed) !bgdSamples.empty() && !fgdSamples.empty() in function 'initGMMs'\n",
      "\n"
     ]
    },
    {
     "name": "stderr",
     "output_type": "stream",
     "text": [
      "Processing images:  77%|███████▋  | 1114/1454 [31:08<03:27,  1.64image/s]"
     ]
    },
    {
     "name": "stdout",
     "output_type": "stream",
     "text": [
      "An error occurred during GrabCut: OpenCV(4.6.0) /croot/opencv-suite_1676452025216/work/modules/imgproc/src/grabcut.cpp:386: error: (-215:Assertion failed) !bgdSamples.empty() && !fgdSamples.empty() in function 'initGMMs'\n",
      "\n"
     ]
    },
    {
     "name": "stderr",
     "output_type": "stream",
     "text": [
      "Processing images:  86%|████████▌ | 1244/1454 [34:40<03:25,  1.02image/s]"
     ]
    },
    {
     "name": "stdout",
     "output_type": "stream",
     "text": [
      "An error occurred during GrabCut: OpenCV(4.6.0) /croot/opencv-suite_1676452025216/work/modules/imgproc/src/grabcut.cpp:386: error: (-215:Assertion failed) !bgdSamples.empty() && !fgdSamples.empty() in function 'initGMMs'\n",
      "\n"
     ]
    },
    {
     "name": "stderr",
     "output_type": "stream",
     "text": [
      "Processing images:  86%|████████▋ | 1255/1454 [34:51<02:45,  1.20image/s]"
     ]
    },
    {
     "name": "stdout",
     "output_type": "stream",
     "text": [
      "An error occurred during GrabCut: OpenCV(4.6.0) /croot/opencv-suite_1676452025216/work/modules/imgproc/src/grabcut.cpp:386: error: (-215:Assertion failed) !bgdSamples.empty() && !fgdSamples.empty() in function 'initGMMs'\n",
      "\n"
     ]
    },
    {
     "name": "stderr",
     "output_type": "stream",
     "text": [
      "Processing images:  87%|████████▋ | 1263/1454 [35:05<04:31,  1.42s/image]"
     ]
    },
    {
     "name": "stdout",
     "output_type": "stream",
     "text": [
      "An error occurred during GrabCut: OpenCV(4.6.0) /croot/opencv-suite_1676452025216/work/modules/imgproc/src/grabcut.cpp:386: error: (-215:Assertion failed) !bgdSamples.empty() && !fgdSamples.empty() in function 'initGMMs'\n",
      "\n"
     ]
    },
    {
     "name": "stderr",
     "output_type": "stream",
     "text": [
      "Processing images:  91%|█████████ | 1325/1454 [36:06<05:28,  2.54s/image]"
     ]
    },
    {
     "name": "stdout",
     "output_type": "stream",
     "text": [
      "An error occurred during GrabCut: OpenCV(4.6.0) /croot/opencv-suite_1676452025216/work/modules/imgproc/src/grabcut.cpp:386: error: (-215:Assertion failed) !bgdSamples.empty() && !fgdSamples.empty() in function 'initGMMs'\n",
      "\n",
      "An error occurred during GrabCut: OpenCV(4.6.0) /croot/opencv-suite_1676452025216/work/modules/imgproc/src/grabcut.cpp:386: error: (-215:Assertion failed) !bgdSamples.empty() && !fgdSamples.empty() in function 'initGMMs'\n",
      "\n"
     ]
    },
    {
     "name": "stderr",
     "output_type": "stream",
     "text": [
      "Processing images:  91%|█████████▏| 1330/1454 [36:17<05:03,  2.45s/image]"
     ]
    },
    {
     "name": "stdout",
     "output_type": "stream",
     "text": [
      "An error occurred during GrabCut: OpenCV(4.6.0) /croot/opencv-suite_1676452025216/work/modules/imgproc/src/grabcut.cpp:386: error: (-215:Assertion failed) !bgdSamples.empty() && !fgdSamples.empty() in function 'initGMMs'\n",
      "\n"
     ]
    },
    {
     "name": "stderr",
     "output_type": "stream",
     "text": [
      "Processing images:  93%|█████████▎| 1358/1454 [36:49<02:06,  1.32s/image]"
     ]
    },
    {
     "name": "stdout",
     "output_type": "stream",
     "text": [
      "An error occurred during GrabCut: OpenCV(4.6.0) /croot/opencv-suite_1676452025216/work/modules/imgproc/src/grabcut.cpp:386: error: (-215:Assertion failed) !bgdSamples.empty() && !fgdSamples.empty() in function 'initGMMs'\n",
      "\n"
     ]
    },
    {
     "name": "stderr",
     "output_type": "stream",
     "text": [
      "Processing images:  96%|█████████▌| 1389/1454 [37:46<01:32,  1.43s/image]"
     ]
    },
    {
     "name": "stdout",
     "output_type": "stream",
     "text": [
      "An error occurred during GrabCut: OpenCV(4.6.0) /croot/opencv-suite_1676452025216/work/modules/imgproc/src/grabcut.cpp:386: error: (-215:Assertion failed) !bgdSamples.empty() && !fgdSamples.empty() in function 'initGMMs'\n",
      "\n"
     ]
    },
    {
     "name": "stderr",
     "output_type": "stream",
     "text": [
      "Processing images: 100%|██████████| 1454/1454 [39:18<00:00,  1.62s/image]\n"
     ]
    }
   ],
   "source": [
    "grabCut_output = \"/home/clr/Thesis/HoughTransform_xray/grabCut_segmented/\"\n",
    "grabCut = grabCut.grabCut(output_paths[2], grabCut_output)"
   ]
  },
  {
   "cell_type": "markdown",
   "metadata": {},
   "source": [
    "## Compare outputs bw kmeans and Grabcut "
   ]
  },
  {
   "cell_type": "code",
   "execution_count": null,
   "metadata": {},
   "outputs": [],
   "source": []
  },
  {
   "cell_type": "markdown",
   "metadata": {},
   "source": [
    "### Checking output"
   ]
  },
  {
   "cell_type": "code",
   "execution_count": 4,
   "metadata": {},
   "outputs": [
    {
     "ename": "NameError",
     "evalue": "name 'ax' is not defined",
     "output_type": "error",
     "traceback": [
      "\u001b[0;31m---------------------------------------------------------------------------\u001b[0m",
      "\u001b[0;31mNameError\u001b[0m                                 Traceback (most recent call last)",
      "Cell \u001b[0;32mIn[4], line 2\u001b[0m\n\u001b[1;32m      1\u001b[0m (\u001b[39m\"\u001b[39m\u001b[39max\u001b[39m\u001b[39m\"\u001b[39m, \u001b[39m\"\u001b[39m\u001b[39m=\u001b[39m\u001b[39m\"\u001b[39m, \u001b[39m\"\u001b[39m\u001b[39mplt.subplots(2,\u001b[39m\u001b[39m\"\u001b[39m, \u001b[39m\"\u001b[39m\u001b[39m5,\u001b[39m\u001b[39m\"\u001b[39m, \u001b[39m\"\u001b[39m\u001b[39mfigsize=(15,\u001b[39m\u001b[39m\"\u001b[39m, \u001b[39m\"\u001b[39m\u001b[39m5))\u001b[39m\u001b[39m\"\u001b[39m)\n\u001b[0;32m----> 2\u001b[0m ax[\u001b[39m0\u001b[39m][\u001b[39m0\u001b[39m]\u001b[39m.\u001b[39mimshow(image_masked[\u001b[39m0\u001b[39m], cmap\u001b[39m=\u001b[39m\u001b[39m'\u001b[39m\u001b[39mgray\u001b[39m\u001b[39m'\u001b[39m)\n\u001b[1;32m      3\u001b[0m ax[\u001b[39m0\u001b[39m][\u001b[39m0\u001b[39m]\u001b[39m.\u001b[39mset_title(\u001b[39m\"\u001b[39m\u001b[39mkmeans segmented\u001b[39m\u001b[39m\"\u001b[39m)\n\u001b[1;32m      4\u001b[0m ax[\u001b[39m0\u001b[39m][\u001b[39m1\u001b[39m]\u001b[39m.\u001b[39mimshow(image_masked[\u001b[39m10\u001b[39m], cmap\u001b[39m=\u001b[39m\u001b[39m'\u001b[39m\u001b[39mgray\u001b[39m\u001b[39m'\u001b[39m) \n",
      "\u001b[0;31mNameError\u001b[0m: name 'ax' is not defined"
     ]
    }
   ],
   "source": [
    " , ax = plt.subplots(2, 5, figsize=(15, 5))\n",
    "ax[0][0].imshow(image_masked[0], cmap='gray')\n",
    "ax[0][0].set_title(\"kmeans segmented\")\n",
    "ax[0][1].imshow(image_masked[10], cmap='gray') \n",
    "ax[0][2].imshow(image_masked[40], cmap='gray')\n",
    "ax[0][3].imshow(image_masked[50], cmap='gray')\n",
    "ax[0][4].imshow(image_masked[60], cmap='gray')\n",
    "ax[1][0].imshow(image_masked[70], cmap='gray')\n",
    "ax[1][1].imshow(image_masked[80], cmap='gray')\n",
    "ax[1][2].imshow(image_masked[90], cmap='gray')\n",
    "ax[1][3].imshow(image_masked[100], cmap='gray')\n",
    "ax[1][4].imshow(image_masked[110], cmap='gray')"
   ]
  }
 ],
 "metadata": {
  "kernelspec": {
   "display_name": "Python 3",
   "language": "python",
   "name": "python3"
  },
  "language_info": {
   "codemirror_mode": {
    "name": "ipython",
    "version": 3
   },
   "file_extension": ".py",
   "mimetype": "text/x-python",
   "name": "python",
   "nbconvert_exporter": "python",
   "pygments_lexer": "ipython3",
   "version": "3.10.10"
  },
  "orig_nbformat": 4
 },
 "nbformat": 4,
 "nbformat_minor": 2
}
